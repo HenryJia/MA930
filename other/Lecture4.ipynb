{
 "cells": [
  {
   "cell_type": "code",
   "execution_count": 1,
   "id": "62b80898",
   "metadata": {},
   "outputs": [],
   "source": [
    "import numpy as np\n",
    "import matplotlib.pyplot as plt"
   ]
  },
  {
   "cell_type": "code",
   "execution_count": 2,
   "id": "5af4b63a",
   "metadata": {},
   "outputs": [],
   "source": [
    "T = 50\n",
    "R = 3\n",
    "w = np.array([0.1, 0.2, 0.3, 0.3, 0.05, 0.05])"
   ]
  },
  {
   "cell_type": "code",
   "execution_count": 3,
   "id": "b99d6ea9",
   "metadata": {},
   "outputs": [
    {
     "name": "stdout",
     "output_type": "stream",
     "text": [
      "[1, 2, 2, 4, 9, 8, 11, 14, 19, 31, 35, 44, 63, 87, 130, 167, 184, 325, 404, 544, 810, 1024, 1380, 1911, 2678, 3502, 4662, 6403, 8828, 11757, 16005, 21647, 29296, 40079, 53982, 73334, 99478, 134081, 182302, 247333, 334891, 454290, 615377, 832294, 1129826, 1533269, 2075552, 2809875, 3816679, 5171357]\n"
     ]
    }
   ],
   "source": [
    "I = [1]\n",
    "\n",
    "for t in range(1, T):\n",
    "    s = min(len(I), len(w))\n",
    "    lam = np.sum(I[t-s:t] * w[:s]) * R\n",
    "    I += [np.random.poisson(lam)]\n",
    "print(I)"
   ]
  },
  {
   "cell_type": "code",
   "execution_count": 4,
   "id": "80603f69",
   "metadata": {},
   "outputs": [
    {
     "data": {
      "text/plain": [
       "<BarContainer object of 50 artists>"
      ]
     },
     "execution_count": 4,
     "metadata": {},
     "output_type": "execute_result"
    },
    {
     "data": {
      "image/png": "[encoded data removed]",
      "text/plain": [
       "<Figure size 432x288 with 1 Axes>"
      ]
     },
     "metadata": {
      "needs_background": "light"
     },
     "output_type": "display_data"
    }
   ],
   "source": [
    "plt.bar(np.arange(len(I)), np.array(I))"
   ]
  },
  {
   "cell_type": "code",
   "execution_count": 5,
   "id": "09a78371",
   "metadata": {},
   "outputs": [],
   "source": [
    "tau = 10\n",
    "\n",
    "prior_shape = 1.0\n",
    "prior_scale = 1.0"
   ]
  },
  {
   "cell_type": "code",
   "execution_count": 6,
   "id": "c93c60e5",
   "metadata": {},
   "outputs": [
    {
     "name": "stdout",
     "output_type": "stream",
     "text": [
      "18773411.0\n",
      "1.6271564602870907e-07\n",
      "3.054727699027473\n"
     ]
    }
   ],
   "source": [
    "def delta(I, w, t):\n",
    "    s = min(len(I), len(w))\n",
    "    return np.sum(I[t-s:t] * w[:s])\n",
    "\n",
    "posterior_shape = prior_shape + np.sum(I[-tau:])\n",
    "posterior_scale = 1.0 / (np.sum([delta(I, w, -t) for t in range(1, tau)]) + 1.0 / prior_scale)\n",
    "\n",
    "print(posterior_shape)\n",
    "print(posterior_scale)\n",
    "print(posterior_shape * posterior_scale)"
   ]
  },
  {
   "cell_type": "code",
   "execution_count": null,
   "id": "b141533e",
   "metadata": {},
   "outputs": [],
   "source": []
  }
 ],
 "metadata": {
  "kernelspec": {
   "display_name": "Python 3 (ipykernel)",
   "language": "python",
   "name": "python3"
  },
  "language_info": {
   "codemirror_mode": {
    "name": "ipython",
    "version": 3
   },
   "file_extension": ".py",
   "mimetype": "text/x-python",
   "name": "python",
   "nbconvert_exporter": "python",
   "pygments_lexer": "ipython3",
   "version": "3.9.7"
  }
 },
 "nbformat": 4,
 "nbformat_minor": 5
}
